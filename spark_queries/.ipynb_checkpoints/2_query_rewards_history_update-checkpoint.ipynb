{
 "cells": [
  {
   "cell_type": "code",
   "execution_count": 1,
   "id": "f5c269a4",
   "metadata": {
    "ExecuteTime": {
     "end_time": "2023-01-16T21:00:15.567942Z",
     "start_time": "2023-01-16T21:00:13.359492Z"
    }
   },
   "outputs": [],
   "source": [
    "import pymongo\n",
    "from pymongo import MongoClient\n",
    "from pyspark.sql.functions import col, lit, when, from_json\n",
    "from pyspark.sql import functions as F\n",
    "from pyspark.sql.types import StructType, StringType, IntegerType, ArrayType,BooleanType,StructField,LongType\n",
    "import pyspark\n",
    "import pandas as pd\n",
    "from pyspark.sql import SparkSession\n",
    "import time"
   ]
  },
  {
   "cell_type": "code",
   "execution_count": 2,
   "id": "b08b84e0",
   "metadata": {
    "ExecuteTime": {
     "end_time": "2023-01-16T21:00:19.969211Z",
     "start_time": "2023-01-16T21:00:19.966674Z"
    }
   },
   "outputs": [],
   "source": [
    "# Grab Currrent Time Before Running the Code\n",
    "start = time.time()"
   ]
  },
  {
   "cell_type": "code",
   "execution_count": 3,
   "id": "e0844bfe",
   "metadata": {
    "ExecuteTime": {
     "end_time": "2023-01-16T21:00:22.374797Z",
     "start_time": "2023-01-16T21:00:22.352668Z"
    }
   },
   "outputs": [],
   "source": [
    "client = MongoClient(\"172.23.149.210\", 27017)\n",
    "db = client['cardano_bronze']"
   ]
  },
  {
   "cell_type": "code",
   "execution_count": 4,
   "id": "dcf029b8",
   "metadata": {
    "ExecuteTime": {
     "end_time": "2023-01-16T21:00:42.433120Z",
     "start_time": "2023-01-16T21:00:42.429440Z"
    }
   },
   "outputs": [],
   "source": [
    "# Import the needed tables\n",
    "reward = db[\"node.public.reward\"]\n",
    "\n",
    "last_ind = db[\"last_indexes_2_rewards_history\"]\n",
    "\n",
    "# import required temporary collections to overwrite with new data\n",
    "reward_tmp = db[\"reward_temporary\"]"
   ]
  },
  {
   "cell_type": "code",
   "execution_count": 5,
   "id": "bf8d5e04",
   "metadata": {
    "ExecuteTime": {
     "end_time": "2023-01-16T21:00:43.233643Z",
     "start_time": "2023-01-16T21:00:43.231334Z"
    }
   },
   "outputs": [],
   "source": [
    "# insert initial values in checkpoint table\n",
    "#initial_val_reward = { \"collection\": \"reward\", \"last_index\": 0 }\n",
    "#initial_val_pool_hash = { \"collection\": \"pool_hash\", \"last_index\": 0 }\n",
    "#initial_val_stake_address = { \"collection\": \"stake_address\", \"last_index\": 0 }\n",
    "#\n",
    "#last_ind.insert_one(initial_val_reward)\n",
    "#last_ind.insert_one(initial_val_pool_hash)\n",
    "#last_ind.insert_one(initial_val_stake_address)"
   ]
  },
  {
   "cell_type": "code",
   "execution_count": 6,
   "id": "9be651c2",
   "metadata": {
    "ExecuteTime": {
     "end_time": "2023-01-16T21:00:48.420989Z",
     "start_time": "2023-01-16T21:00:48.416521Z"
    }
   },
   "outputs": [],
   "source": [
    "#retrieve the last indices that were processed before\n",
    "reward_last_processed = last_ind.find_one({'collection': 'reward'})['last_index']"
   ]
  },
  {
   "cell_type": "code",
   "execution_count": 8,
   "id": "869dc36f",
   "metadata": {
    "ExecuteTime": {
     "end_time": "2023-01-16T21:00:57.215791Z",
     "start_time": "2023-01-16T21:00:57.212733Z"
    }
   },
   "outputs": [],
   "source": [
    "# count how many documents are in each new input mongodb collection\n",
    "count_reward = reward.estimated_document_count()"
   ]
  },
  {
   "cell_type": "code",
   "execution_count": 10,
   "id": "a444a1ee",
   "metadata": {
    "ExecuteTime": {
     "end_time": "2023-01-16T21:01:27.202834Z",
     "start_time": "2023-01-16T21:01:27.199373Z"
    }
   },
   "outputs": [],
   "source": [
    "# for each Cardano table, select the records which haven't been processed yet (range between last_processed and total records count)\n",
    "reward_df = reward.find()[reward_last_processed:count_reward]"
   ]
  },
  {
   "cell_type": "code",
   "execution_count": 11,
   "id": "23fc6a85",
   "metadata": {
    "ExecuteTime": {
     "end_time": "2023-01-16T21:01:28.564614Z",
     "start_time": "2023-01-16T21:01:28.561365Z"
    }
   },
   "outputs": [],
   "source": [
    "# drop the previous records in the temporary collections\n",
    "reward_tmp.drop()"
   ]
  },
  {
   "cell_type": "code",
   "execution_count": null,
   "id": "d6e32592",
   "metadata": {
    "ExecuteTime": {
     "start_time": "2023-01-16T21:01:30.054Z"
    }
   },
   "outputs": [],
   "source": [
    "# load the temporary records in the temporary collections\n",
    "reward_tmp.insert_many(reward_df)"
   ]
  },
  {
   "cell_type": "markdown",
   "id": "8ae3f181",
   "metadata": {
    "tags": []
   },
   "source": [
    "# Initial setup"
   ]
  },
  {
   "cell_type": "code",
   "execution_count": null,
   "id": "4f3b1830",
   "metadata": {},
   "outputs": [],
   "source": [
    "config = pyspark.SparkConf().setAll([\n",
    "    #('spark.driver.extraJavaOptions', '-Djava.io.tmpdir=/home/ubuntu/notebook/tmp_spark_env'),\n",
    "    ('spark.executor.memory', '30g'),\n",
    "    ('spark.executor.cores', '3'),\n",
    "    ('spark.cores.max', '3'),\n",
    "    ('spark.driver.memory','10g'),\n",
    "    ('spark.executor.instances', '2'),\n",
    "    ('spark.worker.cleanup.enabled', 'true'),\n",
    "    ('spark.worker.cleanup.interval', '60'),\n",
    "    ('spark.worker.cleanup.appDataTtl', '60'),\n",
    "    ('spark.jars.packages', 'org.mongodb.spark:mongo-spark-connector:10.0.2'),\n",
    "    ('spark.mongodb.output.writeConcern.wTimeoutMS','120000'),\n",
    "    ('spark.mongodb.output.writeConcern.socketTimeoutMS','120000'),\n",
    "    ('spark.mongodb.output.writeConcern.connectTimeoutMS','120000')\n",
    "])"
   ]
  },
  {
   "cell_type": "code",
   "execution_count": null,
   "id": "fc20353b",
   "metadata": {
    "tags": []
   },
   "outputs": [],
   "source": [
    "spark = SparkSession \\\n",
    "    .builder \\\n",
    " .config(conf=config) \\\n",
    "    .appName(\"MongoDB-rewards-history\") \\\n",
    "    .master(\"spark://172.23.149.210:7077\") \\\n",
    "    .getOrCreate()"
   ]
  },
  {
   "cell_type": "markdown",
   "id": "826d9da0",
   "metadata": {
    "tags": []
   },
   "source": [
    "# Tables needed"
   ]
  },
  {
   "cell_type": "markdown",
   "id": "b1866e6f",
   "metadata": {},
   "source": [
    "- reward\n",
    "- pool_hash\n",
    "- stake_address"
   ]
  },
  {
   "cell_type": "code",
   "execution_count": null,
   "id": "d81e6622",
   "metadata": {},
   "outputs": [],
   "source": [
    "reward = spark.read.format(\"mongodb\") \\\n",
    " .option('spark.mongodb.connection.uri', 'mongodb://172.23.149.210:27017') \\\n",
    "   .option('spark.mongodb.database', 'cardano_bronze') \\\n",
    "   .option('spark.mongodb.collection', 'reward_temporary') \\\n",
    " .option('spark.mongodb.read.readPreference.name', 'primaryPreferred') \\\n",
    " .option('spark.mongodb.change.stream.publish.full.document.only','true') \\\n",
    "   .option(\"forceDeleteTempCheckpointLocation\", \"true\") \\\n",
    "   .load()"
   ]
  },
  {
   "cell_type": "code",
   "execution_count": null,
   "id": "8fb79cca",
   "metadata": {
    "tags": []
   },
   "outputs": [],
   "source": [
    "pool_hash = spark.read.format(\"mongodb\") \\\n",
    " .option('spark.mongodb.connection.uri', 'mongodb://172.23.149.210:27017') \\\n",
    "   .option('spark.mongodb.database', 'cardano_bronze') \\\n",
    "   .option('spark.mongodb.collection', 'node.public.pool_hash') \\\n",
    " .option('spark.mongodb.read.readPreference.name', 'primaryPreferred') \\\n",
    " .option('spark.mongodb.change.stream.publish.full.document.only','true') \\\n",
    "   .option(\"forceDeleteTempCheckpointLocation\", \"true\") \\\n",
    "   .load()"
   ]
  },
  {
   "cell_type": "code",
   "execution_count": null,
   "id": "70b677b8",
   "metadata": {},
   "outputs": [],
   "source": [
    "stake_address = spark.read.format(\"mongodb\") \\\n",
    " .option('spark.mongodb.connection.uri', 'mongodb://172.23.149.210:27017') \\\n",
    "   .option('spark.mongodb.database', 'cardano_bronze') \\\n",
    "   .option('spark.mongodb.collection', 'node.public.stake_address') \\\n",
    " .option('spark.mongodb.read.readPreference.name', 'primaryPreferred') \\\n",
    " .option('spark.mongodb.change.stream.publish.full.document.only','true') \\\n",
    "   .option(\"forceDeleteTempCheckpointLocation\", \"true\") \\\n",
    "   .load()"
   ]
  },
  {
   "cell_type": "code",
   "execution_count": null,
   "id": "41072f92",
   "metadata": {},
   "outputs": [],
   "source": [
    "reward.createOrReplaceTempView(\"reward\")\n",
    "pool_hash.createOrReplaceTempView(\"pool_hash\")\n",
    "stake_address.createOrReplaceTempView(\"stake_address\")"
   ]
  },
  {
   "cell_type": "markdown",
   "id": "8b597497",
   "metadata": {},
   "source": [
    "# Get the reward history per address:\n",
    "Meaning: retrieve the rewards by epoch, grouping by address. Delegated pools are also reported in the query."
   ]
  },
  {
   "cell_type": "code",
   "execution_count": null,
   "id": "1e89bb52",
   "metadata": {},
   "outputs": [],
   "source": [
    "reward_history_address = \"select stake_address.id, stake_address.view, reward.earned_epoch, \\\n",
    "pool_hash.view as delegated_pool, reward.amount as lovelace \\\n",
    "    from reward \\\n",
    "    inner join stake_address on reward.addr_id = stake_address.id \\\n",
    "    inner join pool_hash on reward.pool_id = pool_hash.id \\\n",
    "    order by earned_epoch desc;\""
   ]
  },
  {
   "cell_type": "code",
   "execution_count": null,
   "id": "9354cc8b",
   "metadata": {},
   "outputs": [],
   "source": [
    "reward_history_address_result = spark.sql(reward_history_address)\n",
    "reward_history_address_result.createOrReplaceTempView(\"reward_history_address\")"
   ]
  },
  {
   "cell_type": "code",
   "execution_count": null,
   "id": "4633f06c",
   "metadata": {},
   "outputs": [],
   "source": [
    "## Write in the SILVER db, collection rewards_by_address. This is the first step of processing the data to find insights in the rewards history.\n",
    "## Note: the writing takes place as temporary table on Spark\n",
    "reward_history_address_result.write.format(\"mongodb\") \\\n",
    "\t.option('spark.mongodb.connection.uri', 'mongodb://172.23.149.210:27017') \\\n",
    "  \t.mode(\"append\") \\\n",
    "    .option('spark.mongodb.database', 'cardano_silver') \\\n",
    "  \t.option('spark.mongodb.collection', 'rewards_history') \\\n",
    "  \t.option(\"forceDeleteTempCheckpointLocation\", \"true\") \\\n",
    "  \t.save()"
   ]
  },
  {
   "cell_type": "markdown",
   "id": "a22cb332",
   "metadata": {},
   "source": [
    "# Intermediate import of rewards_history table"
   ]
  },
  {
   "cell_type": "code",
   "execution_count": null,
   "id": "5e11c8fd",
   "metadata": {},
   "outputs": [],
   "source": [
    "reward_history_address = spark.read.format(\"mongodb\") \\\n",
    " .option('spark.mongodb.connection.uri', 'mongodb://172.23.149.210:27017') \\\n",
    "   .option('spark.mongodb.database', 'cardano_silver') \\\n",
    "   .option('spark.mongodb.collection', 'rewards_history') \\\n",
    " .option('spark.mongodb.read.readPreference.name', 'primaryPreferred') \\\n",
    " .option('spark.mongodb.change.stream.publish.full.document.only','true') \\\n",
    "   .option(\"forceDeleteTempCheckpointLocation\", \"true\") \\\n",
    "   .load()"
   ]
  },
  {
   "cell_type": "code",
   "execution_count": null,
   "id": "a5f458b4",
   "metadata": {},
   "outputs": [],
   "source": [
    "reward_history_address.createOrReplaceTempView(\"reward_history_address\")"
   ]
  },
  {
   "cell_type": "markdown",
   "id": "f8e5d477",
   "metadata": {},
   "source": [
    "### Gold database results"
   ]
  },
  {
   "cell_type": "markdown",
   "id": "bf5db6d2",
   "metadata": {},
   "source": [
    "__2. Get the total rewards by epoch - rewards_by_epoch__"
   ]
  },
  {
   "cell_type": "code",
   "execution_count": null,
   "id": "1336871d",
   "metadata": {},
   "outputs": [],
   "source": [
    "rewards_by_epoch = \"select earned_epoch, sum(lovelace)/1000000 as tot_ADA \\\n",
    "from reward_history_address \\\n",
    "group by earned_epoch\""
   ]
  },
  {
   "cell_type": "code",
   "execution_count": null,
   "id": "31239bc1",
   "metadata": {},
   "outputs": [],
   "source": [
    "rewards_by_epoch = spark.sql(rewards_by_epoch)"
   ]
  },
  {
   "cell_type": "code",
   "execution_count": null,
   "id": "cbd0dc1f",
   "metadata": {},
   "outputs": [],
   "source": [
    "rewards_by_epoch.write.format(\"mongodb\") \\\n",
    "\t.option('spark.mongodb.connection.uri', 'mongodb://172.23.149.210:27017') \\\n",
    "  \t.mode(\"overwrite\") \\\n",
    "    .option('spark.mongodb.database', 'cardano_gold') \\\n",
    "  \t.option('spark.mongodb.collection', 'rewards_by_epoch') \\\n",
    "  \t.option(\"forceDeleteTempCheckpointLocation\", \"true\") \\\n",
    "  \t.save()"
   ]
  },
  {
   "cell_type": "markdown",
   "id": "06788e3c",
   "metadata": {},
   "source": [
    "__3. Get the total rewards by pool - rewards_by_pool__"
   ]
  },
  {
   "cell_type": "code",
   "execution_count": null,
   "id": "e0786366",
   "metadata": {},
   "outputs": [],
   "source": [
    "rewards_by_pool = \"select delegated_pool, sum(lovelace)/1000000 as tot_ADA \\\n",
    "from reward_history_address \\\n",
    "group by delegated_pool\""
   ]
  },
  {
   "cell_type": "code",
   "execution_count": null,
   "id": "4558814e",
   "metadata": {},
   "outputs": [],
   "source": [
    "rewards_by_pool = spark.sql(rewards_by_pool)"
   ]
  },
  {
   "cell_type": "code",
   "execution_count": null,
   "id": "d7f034d8",
   "metadata": {},
   "outputs": [],
   "source": [
    "rewards_by_pool.write.format(\"mongodb\") \\\n",
    "\t.option('spark.mongodb.connection.uri', 'mongodb://172.23.149.210:27017') \\\n",
    "  \t.mode(\"overwrite\") \\\n",
    "    .option('spark.mongodb.database', 'cardano_gold') \\\n",
    "  \t.option('spark.mongodb.collection', 'rewards_by_pool') \\\n",
    "  \t.option(\"forceDeleteTempCheckpointLocation\", \"true\") \\\n",
    "  \t.save()"
   ]
  },
  {
   "cell_type": "markdown",
   "id": "219c0fec",
   "metadata": {},
   "source": [
    "__4. Proportion of top stakers - distribution_whales__"
   ]
  },
  {
   "cell_type": "code",
   "execution_count": null,
   "id": "e4efdb81",
   "metadata": {},
   "outputs": [],
   "source": [
    "distribution_whales = \"select view, sum(lovelace)/1000000 as tot_ADA \\\n",
    "from reward_history_address \\\n",
    "group by view \\\n",
    "order by tot_ADA desc \\\n",
    "limit 10\""
   ]
  },
  {
   "cell_type": "code",
   "execution_count": null,
   "id": "44ce09c0",
   "metadata": {},
   "outputs": [],
   "source": [
    "distribution_whales = spark.sql(distribution_whales)"
   ]
  },
  {
   "cell_type": "code",
   "execution_count": null,
   "id": "1619c273",
   "metadata": {},
   "outputs": [],
   "source": [
    "distribution_whales.write.format(\"mongodb\") \\\n",
    "\t.option('spark.mongodb.connection.uri', 'mongodb://172.23.149.210:27017') \\\n",
    "  \t.mode(\"overwrite\") \\\n",
    "    .option('spark.mongodb.database', 'cardano_gold') \\\n",
    "  \t.option('spark.mongodb.collection', 'distribution_whales') \\\n",
    "  \t.option(\"forceDeleteTempCheckpointLocation\", \"true\") \\\n",
    "  \t.save()"
   ]
  },
  {
   "cell_type": "code",
   "execution_count": null,
   "id": "46e86266",
   "metadata": {},
   "outputs": [],
   "source": [
    "# the full REWARD table is now required to compute the rewards by type and sum of ADA rewards by type subqueries\n",
    "reward = spark.read.format(\"mongodb\") \\\n",
    " .option('spark.mongodb.connection.uri', 'mongodb://172.23.149.210:27017') \\\n",
    "   .option('spark.mongodb.database', 'cardano_bronze') \\\n",
    "   .option('spark.mongodb.collection', 'node.public.reward') \\\n",
    " .option('spark.mongodb.read.readPreference.name', 'primaryPreferred') \\\n",
    " .option('spark.mongodb.change.stream.publish.full.document.only','true') \\\n",
    "   .option(\"forceDeleteTempCheckpointLocation\", \"true\") \\\n",
    "   .load()"
   ]
  },
  {
   "cell_type": "code",
   "execution_count": null,
   "id": "d400278f",
   "metadata": {},
   "outputs": [],
   "source": [
    "reward.createOrReplaceTempView(\"reward\")"
   ]
  },
  {
   "cell_type": "markdown",
   "id": "c85f97a3",
   "metadata": {},
   "source": [
    "__5. Count how many rewards by type__"
   ]
  },
  {
   "cell_type": "code",
   "execution_count": null,
   "id": "12f8ba40",
   "metadata": {},
   "outputs": [],
   "source": [
    "rewards_by_type = \"select count(*),type from reward group by type\""
   ]
  },
  {
   "cell_type": "code",
   "execution_count": null,
   "id": "396d7dbf",
   "metadata": {},
   "outputs": [],
   "source": [
    "rewards_by_type = spark.sql(rewards_by_type)"
   ]
  },
  {
   "cell_type": "code",
   "execution_count": null,
   "id": "18e9a570",
   "metadata": {},
   "outputs": [],
   "source": [
    "rewards_by_type.write.format(\"mongodb\") \\\n",
    "\t.option('spark.mongodb.connection.uri', 'mongodb://172.23.149.210:27017') \\\n",
    "  \t.mode(\"overwrite\") \\\n",
    "    .option('spark.mongodb.database', 'cardano_gold') \\\n",
    "  \t.option('spark.mongodb.collection', 'rewards_by_type') \\\n",
    "  \t.option(\"forceDeleteTempCheckpointLocation\", \"true\") \\\n",
    "  \t.save()"
   ]
  },
  {
   "cell_type": "markdown",
   "id": "30d8d658",
   "metadata": {},
   "source": [
    "__6. Sum ADA rewards by type__"
   ]
  },
  {
   "cell_type": "code",
   "execution_count": null,
   "id": "ba0e2f01",
   "metadata": {},
   "outputs": [],
   "source": [
    "sum_rewards_by_type = \"select sum(amount)/1000000 as ADA_amount,type from reward group by type\""
   ]
  },
  {
   "cell_type": "code",
   "execution_count": null,
   "id": "0d076c10",
   "metadata": {},
   "outputs": [],
   "source": [
    "sum_rewards_by_type = spark.sql(sum_rewards_by_type)"
   ]
  },
  {
   "cell_type": "code",
   "execution_count": null,
   "id": "814fe959",
   "metadata": {},
   "outputs": [],
   "source": [
    "sum_rewards_by_type.write.format(\"mongodb\") \\\n",
    "\t.option('spark.mongodb.connection.uri', 'mongodb://172.23.149.210:27017') \\\n",
    "  \t.mode(\"overwrite\") \\\n",
    "    .option('spark.mongodb.database', 'cardano_gold') \\\n",
    "  \t.option('spark.mongodb.collection', 'ADA_rewards_by_type') \\\n",
    "  \t.option(\"forceDeleteTempCheckpointLocation\", \"true\") \\\n",
    "  \t.save()"
   ]
  },
  {
   "cell_type": "code",
   "execution_count": null,
   "id": "8ff866a9",
   "metadata": {},
   "outputs": [],
   "source": [
    "spark.stop()"
   ]
  },
  {
   "cell_type": "code",
   "execution_count": null,
   "id": "16845ddd",
   "metadata": {},
   "outputs": [],
   "source": [
    "# update the old checkpoints with new ones, based on current document count\n",
    "reward_query = { \"collection\": \"reward\" }\n",
    "new_reward_count = { \"$set\": { \"last_index\": count_reward } }\n",
    "\n",
    "last_ind.update_one(reward_query, new_reward_count)"
   ]
  },
  {
   "cell_type": "code",
   "execution_count": null,
   "id": "33965599",
   "metadata": {},
   "outputs": [],
   "source": [
    "# Grab Currrent Time After Running the Code\n",
    "end = time.time()\n",
    "\n",
    "#Subtract Start Time from The End Time\n",
    "total_time = end - start\n",
    "print(\"\\n\"+ str(total_time))"
   ]
  }
 ],
 "metadata": {
  "jupytext": {
   "formats": "ipynb,py:percent"
  },
  "kernelspec": {
   "display_name": "Python 3 (ipykernel)",
   "language": "python",
   "name": "python3"
  },
  "language_info": {
   "codemirror_mode": {
    "name": "ipython",
    "version": 3
   },
   "file_extension": ".py",
   "mimetype": "text/x-python",
   "name": "python",
   "nbconvert_exporter": "python",
   "pygments_lexer": "ipython3",
   "version": "3.7.14"
  }
 },
 "nbformat": 4,
 "nbformat_minor": 5
}
